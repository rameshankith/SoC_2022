{
 "cells": [
  {
   "cell_type": "code",
   "execution_count": null,
   "id": "dad2064d",
   "metadata": {},
   "outputs": [],
   "source": [
    "import pandas as pd\n",
    "import torch\n",
    "import torch.nn.functional as F\n",
    "import torchtext\n",
    "# !pip install torchtext==0.10.0\n",
    "import torchtext.legacy\n",
    "import random"
   ]
  },
  {
   "cell_type": "code",
   "execution_count": null,
   "id": "aa276fea",
   "metadata": {},
   "outputs": [],
   "source": [
    "df = pd.read_csv(\"filename.csv\")\n",
    "TEXT = torchtext.legacy.data.Field(tokenize='spacy',tokenizer_language='en_core_web_sm')\n",
    "LABEL = torchtext.legacy.data.LabelField(dtype=torch.long)"
   ]
  },
  {
   "cell_type": "code",
   "execution_count": null,
   "id": "e659a7ad",
   "metadata": {},
   "outputs": [],
   "source": [
    "fields = [('sentiment', LABEL),('lemma_str', TEXT)]\n",
    "dataset = torchtext.legacy.data.TabularDataset(path='filename.csv', format='csv',skip_header=True, fields=fields)"
   ]
  },
  {
   "cell_type": "code",
   "execution_count": null,
   "id": "7d040bbd",
   "metadata": {},
   "outputs": [],
   "source": [
    "RANDOM_SEED=123\n",
    "train_data, test_data = dataset.split(split_ratio=[0.8, 0.2],random_state=random.seed(RANDOM_SEED))\n",
    "train_data, valid_data = train_data.split(split_ratio=[0.85, 0.15],random_state=random.seed(RANDOM_SEED))"
   ]
  },
  {
   "cell_type": "code",
   "execution_count": null,
   "id": "0c35be03",
   "metadata": {},
   "outputs": [],
   "source": [
    "VOCABULARY_SIZE=5000\n",
    "TEXT.build_vocab(train_data,min_freq=4,max_size=VOCABULARY_SIZE)\n",
    "LABEL.build_vocab(train_data)"
   ]
  },
  {
   "cell_type": "code",
   "execution_count": null,
   "id": "2c4d9531",
   "metadata": {},
   "outputs": [],
   "source": [
    "LEARNING_RATE = 0.005\n",
    "BATCH_SIZE = 16\n",
    "NUM_EPOCHS = 15\n",
    "DEVICE = torch.device('cuda:1' if torch.cuda.is_available() else 'cpu')\n",
    "EMBEDDING_DIM = 300\n",
    "HIDDEN_DIM = 128\n",
    "NUM_CLASSES = 13"
   ]
  },
  {
   "cell_type": "code",
   "execution_count": null,
   "id": "01ccf353",
   "metadata": {},
   "outputs": [],
   "source": [
    "train_loader, valid_loader, test_loader = torchtext.legacy.data.BucketIterator.splits(\n",
    "    (train_data, valid_data, test_data), batch_size=BATCH_SIZE, sort_within_batch=False,\n",
    "        sort_key=lambda x: len(x.lemma_str), device=DEVICE\n",
    ")"
   ]
  },
  {
   "cell_type": "code",
   "execution_count": null,
   "id": "8fe9d372",
   "metadata": {},
   "outputs": [],
   "source": [
    "#Not the actual model, just a simple model for testing\n",
    "class RNN(torch.nn.Module):\n",
    "    \n",
    "    def __init__(self, input_dim, embedding_dim, hidden_dim, output_dim):\n",
    "        super().__init__()\n",
    "        self.embedding = torch.nn.Embedding(input_dim, embedding_dim)\n",
    "        self.rnn = torch.nn.LSTM(embedding_dim, hidden_dim)        \n",
    "        self.fc = torch.nn.Linear(hidden_dim, output_dim)\n",
    "        \n",
    "    def forward(self, text):\n",
    "        embedded = self.embedding(text)\n",
    "        output, (hidden, cell) = self.rnn(embedded)\n",
    "        hidden.squeeze_(0)\n",
    "        output = self.fc(hidden)\n",
    "        return output"
   ]
  },
  {
   "cell_type": "code",
   "execution_count": null,
   "id": "31e92bef",
   "metadata": {},
   "outputs": [],
   "source": [
    "torch.manual_seed(RANDOM_SEED)\n",
    "model = RNN(input_dim=len(TEXT.vocab),embedding_dim=EMBEDDING_DIM,hidden_dim=HIDDEN_DIM,output_dim=NUM_CLASSES)\n",
    "\n",
    "model = model.to(DEVICE)\n",
    "optimizer = torch.optim.Adam(model.parameters(), lr=0.005)"
   ]
  },
  {
   "cell_type": "code",
   "execution_count": null,
   "id": "4b2a6bdf",
   "metadata": {},
   "outputs": [],
   "source": [
    "#Training\n",
    "for epoch in range(NUM_EPOCHS):\n",
    "    for batch_idx, batch in enumerate(train_loader):\n",
    "        data = batch.lemma_str.to(device=DEVICE)\n",
    "        targets = batch.sentiment.to(device=DEVICE)\n",
    "\n",
    "        scores = model(data)\n",
    "        loss = F.cross_entropy(scores, targets)\n",
    "\n",
    "        optimizer.zero_grad()\n",
    "        loss.backward()\n",
    "\n",
    "        optimizer.step()\n",
    "\n",
    "    print(f\"Epoch {epoch} is done\")"
   ]
  },
  {
   "cell_type": "code",
   "execution_count": null,
   "id": "70452024",
   "metadata": {},
   "outputs": [],
   "source": []
  }
 ],
 "metadata": {
  "kernelspec": {
   "display_name": "Python 3",
   "language": "python",
   "name": "python3"
  },
  "language_info": {
   "codemirror_mode": {
    "name": "ipython",
    "version": 3
   },
   "file_extension": ".py",
   "mimetype": "text/x-python",
   "name": "python",
   "nbconvert_exporter": "python",
   "pygments_lexer": "ipython3",
   "version": "3.8.8"
  }
 },
 "nbformat": 4,
 "nbformat_minor": 5
}
