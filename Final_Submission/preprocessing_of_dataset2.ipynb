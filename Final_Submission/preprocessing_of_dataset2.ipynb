{
 "cells": [
  {
   "cell_type": "code",
   "execution_count": 1,
   "id": "127f4fd7",
   "metadata": {},
   "outputs": [],
   "source": [
    "from datasets import load_dataset"
   ]
  },
  {
   "cell_type": "code",
   "execution_count": 2,
   "id": "7fc9bd07",
   "metadata": {},
   "outputs": [
    {
     "name": "stderr",
     "output_type": "stream",
     "text": [
      "No config specified, defaulting to: go_emotions/simplified\n",
      "Reusing dataset go_emotions (C:\\Users\\rames\\.cache\\huggingface\\datasets\\go_emotions\\simplified\\0.0.0\\2637cfdd4e64d30249c3ed2150fa2b9d279766bfcd6a809b9f085c61a90d776d)\n"
     ]
    },
    {
     "data": {
      "application/vnd.jupyter.widget-view+json": {
       "model_id": "dbbd6dc9068746178d762f10a3ebe8d5",
       "version_major": 2,
       "version_minor": 0
      },
      "text/plain": [
       "  0%|          | 0/3 [00:00<?, ?it/s]"
      ]
     },
     "metadata": {},
     "output_type": "display_data"
    }
   ],
   "source": [
    "go_emotions = load_dataset(\"go_emotions\")\n",
    "data = go_emotions.data"
   ]
  },
  {
   "cell_type": "code",
   "execution_count": 3,
   "id": "8792ed7b",
   "metadata": {},
   "outputs": [],
   "source": [
    "train=data['train'].to_pandas()\n",
    "validation=data['validation'].to_pandas()\n",
    "test=data['test'].to_pandas()"
   ]
  },
  {
   "cell_type": "code",
   "execution_count": 4,
   "id": "68fd94e8",
   "metadata": {},
   "outputs": [],
   "source": [
    "import tqdm"
   ]
  },
  {
   "cell_type": "code",
   "execution_count": 5,
   "id": "5a247cc1",
   "metadata": {
    "scrolled": true
   },
   "outputs": [],
   "source": [
    "import pandas as pd\n",
    "label = []\n",
    "for i in range(len(train)):\n",
    "    label_indices = train.iloc[i][\"labels\"]\n",
    "    label.append(label_indices[0]);"
   ]
  },
  {
   "cell_type": "code",
   "execution_count": 6,
   "id": "82c68c69",
   "metadata": {},
   "outputs": [],
   "source": [
    "train = pd.concat([train,pd.DataFrame(label)],axis=1)"
   ]
  },
  {
   "cell_type": "code",
   "execution_count": 7,
   "id": "a3240cda",
   "metadata": {},
   "outputs": [
    {
     "data": {
      "text/html": [
       "<div>\n",
       "<style scoped>\n",
       "    .dataframe tbody tr th:only-of-type {\n",
       "        vertical-align: middle;\n",
       "    }\n",
       "\n",
       "    .dataframe tbody tr th {\n",
       "        vertical-align: top;\n",
       "    }\n",
       "\n",
       "    .dataframe thead th {\n",
       "        text-align: right;\n",
       "    }\n",
       "</style>\n",
       "<table border=\"1\" class=\"dataframe\">\n",
       "  <thead>\n",
       "    <tr style=\"text-align: right;\">\n",
       "      <th></th>\n",
       "      <th>text</th>\n",
       "      <th>labels</th>\n",
       "      <th>id</th>\n",
       "      <th>0</th>\n",
       "    </tr>\n",
       "  </thead>\n",
       "  <tbody>\n",
       "    <tr>\n",
       "      <th>0</th>\n",
       "      <td>Is this in New Orleans?? I really feel like th...</td>\n",
       "      <td>[27]</td>\n",
       "      <td>edgurhb</td>\n",
       "      <td>27</td>\n",
       "    </tr>\n",
       "    <tr>\n",
       "      <th>1</th>\n",
       "      <td>You know the answer man, you are programmed to...</td>\n",
       "      <td>[4, 27]</td>\n",
       "      <td>ee84bjg</td>\n",
       "      <td>4</td>\n",
       "    </tr>\n",
       "    <tr>\n",
       "      <th>2</th>\n",
       "      <td>I've never been this sad in my life!</td>\n",
       "      <td>[25]</td>\n",
       "      <td>edcu99z</td>\n",
       "      <td>25</td>\n",
       "    </tr>\n",
       "    <tr>\n",
       "      <th>3</th>\n",
       "      <td>The economy is heavily controlled and subsidiz...</td>\n",
       "      <td>[4, 27]</td>\n",
       "      <td>edc32e2</td>\n",
       "      <td>4</td>\n",
       "    </tr>\n",
       "    <tr>\n",
       "      <th>4</th>\n",
       "      <td>He could have easily taken a real camera from ...</td>\n",
       "      <td>[20]</td>\n",
       "      <td>eepig6r</td>\n",
       "      <td>20</td>\n",
       "    </tr>\n",
       "  </tbody>\n",
       "</table>\n",
       "</div>"
      ],
      "text/plain": [
       "                                                text   labels       id   0\n",
       "0  Is this in New Orleans?? I really feel like th...     [27]  edgurhb  27\n",
       "1  You know the answer man, you are programmed to...  [4, 27]  ee84bjg   4\n",
       "2               I've never been this sad in my life!     [25]  edcu99z  25\n",
       "3  The economy is heavily controlled and subsidiz...  [4, 27]  edc32e2   4\n",
       "4  He could have easily taken a real camera from ...     [20]  eepig6r  20"
      ]
     },
     "execution_count": 7,
     "metadata": {},
     "output_type": "execute_result"
    }
   ],
   "source": [
    "train.head()"
   ]
  },
  {
   "cell_type": "code",
   "execution_count": 8,
   "id": "74a28b19",
   "metadata": {},
   "outputs": [
    {
     "data": {
      "text/html": [
       "<div>\n",
       "<style scoped>\n",
       "    .dataframe tbody tr th:only-of-type {\n",
       "        vertical-align: middle;\n",
       "    }\n",
       "\n",
       "    .dataframe tbody tr th {\n",
       "        vertical-align: top;\n",
       "    }\n",
       "\n",
       "    .dataframe thead th {\n",
       "        text-align: right;\n",
       "    }\n",
       "</style>\n",
       "<table border=\"1\" class=\"dataframe\">\n",
       "  <thead>\n",
       "    <tr style=\"text-align: right;\">\n",
       "      <th></th>\n",
       "      <th>text</th>\n",
       "      <th>0</th>\n",
       "    </tr>\n",
       "  </thead>\n",
       "  <tbody>\n",
       "    <tr>\n",
       "      <th>0</th>\n",
       "      <td>Is this in New Orleans?? I really feel like th...</td>\n",
       "      <td>27</td>\n",
       "    </tr>\n",
       "    <tr>\n",
       "      <th>1</th>\n",
       "      <td>You know the answer man, you are programmed to...</td>\n",
       "      <td>4</td>\n",
       "    </tr>\n",
       "    <tr>\n",
       "      <th>2</th>\n",
       "      <td>I've never been this sad in my life!</td>\n",
       "      <td>25</td>\n",
       "    </tr>\n",
       "    <tr>\n",
       "      <th>3</th>\n",
       "      <td>The economy is heavily controlled and subsidiz...</td>\n",
       "      <td>4</td>\n",
       "    </tr>\n",
       "    <tr>\n",
       "      <th>4</th>\n",
       "      <td>He could have easily taken a real camera from ...</td>\n",
       "      <td>20</td>\n",
       "    </tr>\n",
       "    <tr>\n",
       "      <th>...</th>\n",
       "      <td>...</td>\n",
       "      <td>...</td>\n",
       "    </tr>\n",
       "    <tr>\n",
       "      <th>5421</th>\n",
       "      <td>It's pretty dangerous when the state decides w...</td>\n",
       "      <td>14</td>\n",
       "    </tr>\n",
       "    <tr>\n",
       "      <th>5422</th>\n",
       "      <td>I filed for divorce this morning. Hoping he mo...</td>\n",
       "      <td>20</td>\n",
       "    </tr>\n",
       "    <tr>\n",
       "      <th>5423</th>\n",
       "      <td>The last time it happened I just said, \"No\" an...</td>\n",
       "      <td>10</td>\n",
       "    </tr>\n",
       "    <tr>\n",
       "      <th>5424</th>\n",
       "      <td>I can’t stand this arrogant prick he’s no bett...</td>\n",
       "      <td>3</td>\n",
       "    </tr>\n",
       "    <tr>\n",
       "      <th>5425</th>\n",
       "      <td>::but I like baby bangs:: /tiny voice</td>\n",
       "      <td>18</td>\n",
       "    </tr>\n",
       "  </tbody>\n",
       "</table>\n",
       "<p>5426 rows × 2 columns</p>\n",
       "</div>"
      ],
      "text/plain": [
       "                                                   text   0\n",
       "0     Is this in New Orleans?? I really feel like th...  27\n",
       "1     You know the answer man, you are programmed to...   4\n",
       "2                  I've never been this sad in my life!  25\n",
       "3     The economy is heavily controlled and subsidiz...   4\n",
       "4     He could have easily taken a real camera from ...  20\n",
       "...                                                 ...  ..\n",
       "5421  It's pretty dangerous when the state decides w...  14\n",
       "5422  I filed for divorce this morning. Hoping he mo...  20\n",
       "5423  The last time it happened I just said, \"No\" an...  10\n",
       "5424  I can’t stand this arrogant prick he’s no bett...   3\n",
       "5425              ::but I like baby bangs:: /tiny voice  18\n",
       "\n",
       "[5426 rows x 2 columns]"
      ]
     },
     "execution_count": 8,
     "metadata": {},
     "output_type": "execute_result"
    }
   ],
   "source": [
    "train.drop(['labels','id'],axis=1)"
   ]
  },
  {
   "cell_type": "code",
   "execution_count": 103,
   "id": "ca9098d9",
   "metadata": {},
   "outputs": [
    {
     "data": {
      "text/plain": [
       "text      0\n",
       "labels    0\n",
       "id        0\n",
       "0         0\n",
       "dtype: int64"
      ]
     },
     "execution_count": 103,
     "metadata": {},
     "output_type": "execute_result"
    }
   ],
   "source": [
    "train.isnull().sum()"
   ]
  },
  {
   "cell_type": "code",
   "execution_count": 128,
   "id": "22a453c9",
   "metadata": {},
   "outputs": [],
   "source": [
    "import pandas as pd\n",
    "import numpy as np\n",
    "import contractions\n",
    "import string\n",
    "import nltk\n",
    "import re\n",
    "from nltk.tokenize import word_tokenize\n",
    "from nltk.corpus import stopwords, wordnet\n",
    "from nltk.stem import WordNetLemmatizer"
   ]
  },
  {
   "cell_type": "code",
   "execution_count": 127,
   "id": "2061ba20",
   "metadata": {},
   "outputs": [],
   "source": [
    "train['processing'] = train['text'].apply(lambda x: [contractions.fix(word) for word in x.split()])\n",
    "train['processing'] = train['processing'].apply(lambda x: [word.lower() for word in x])\n",
    "train['processing'] = [' '.join(map(str,l)) for l in train['processing']]\n",
    "train['processing'] = [re.sub(r'[^\\w\\s]', '', l) for l in train['processing']]\n",
    "train['processing'] = train['processing'].apply(word_tokenize)"
   ]
  },
  {
   "cell_type": "code",
   "execution_count": 134,
   "id": "fa536fef",
   "metadata": {},
   "outputs": [],
   "source": [
    "stop_words = set(stopwords.words('english'))\n",
    "train['processing'] = train['processing'].apply(lambda x: [word for word in x if word not in stop_words])"
   ]
  },
  {
   "cell_type": "code",
   "execution_count": 139,
   "id": "49e9214e",
   "metadata": {},
   "outputs": [],
   "source": [
    "def get_wordnet_pos(tag):\n",
    "    if tag.startswith('J'):\n",
    "        return wordnet.ADJ\n",
    "    elif tag.startswith('V'):\n",
    "        return wordnet.VERB\n",
    "    elif tag.startswith('N'):\n",
    "        return wordnet.NOUN\n",
    "    elif tag.startswith('R'):\n",
    "        return wordnet.ADV\n",
    "    else:\n",
    "        return wordnet.NOUN\n",
    "\n",
    "train['processing'] = train['processing'].apply(nltk.tag.pos_tag)\n",
    "train['processing'] = train['processing'].apply(lambda x: [(word,get_wordnet_pos(word)) for (word,pos_tag) in x])"
   ]
  },
  {
   "cell_type": "code",
   "execution_count": 141,
   "id": "8769b9fe",
   "metadata": {},
   "outputs": [],
   "source": [
    "wnl = WordNetLemmatizer()\n",
    "train['processing'] = train['processing'].apply(lambda x:[wnl.lemmatize(word,tag) for (word,tag) in x])\n",
    "train['processing'] =[' '.join(l) for l in train['processing']]"
   ]
  },
  {
   "cell_type": "code",
   "execution_count": 142,
   "id": "90a49aa7",
   "metadata": {},
   "outputs": [
    {
     "data": {
      "text/html": [
       "<div>\n",
       "<style scoped>\n",
       "    .dataframe tbody tr th:only-of-type {\n",
       "        vertical-align: middle;\n",
       "    }\n",
       "\n",
       "    .dataframe tbody tr th {\n",
       "        vertical-align: top;\n",
       "    }\n",
       "\n",
       "    .dataframe thead th {\n",
       "        text-align: right;\n",
       "    }\n",
       "</style>\n",
       "<table border=\"1\" class=\"dataframe\">\n",
       "  <thead>\n",
       "    <tr style=\"text-align: right;\">\n",
       "      <th></th>\n",
       "      <th>text</th>\n",
       "      <th>labels</th>\n",
       "      <th>id</th>\n",
       "      <th>0</th>\n",
       "      <th>processing</th>\n",
       "    </tr>\n",
       "  </thead>\n",
       "  <tbody>\n",
       "    <tr>\n",
       "      <th>0</th>\n",
       "      <td>My favourite food is anything I didn't have to...</td>\n",
       "      <td>[27]</td>\n",
       "      <td>eebbqej</td>\n",
       "      <td>27</td>\n",
       "      <td>favourite food anything cook</td>\n",
       "    </tr>\n",
       "    <tr>\n",
       "      <th>1</th>\n",
       "      <td>Now if he does off himself, everyone will thin...</td>\n",
       "      <td>[27]</td>\n",
       "      <td>ed00q6i</td>\n",
       "      <td>27</td>\n",
       "      <td>everyone think he laugh screwing people instea...</td>\n",
       "    </tr>\n",
       "    <tr>\n",
       "      <th>2</th>\n",
       "      <td>WHY THE FUCK IS BAYLESS ISOING</td>\n",
       "      <td>[2]</td>\n",
       "      <td>eezlygj</td>\n",
       "      <td>2</td>\n",
       "      <td>fuck bayless isoing</td>\n",
       "    </tr>\n",
       "    <tr>\n",
       "      <th>3</th>\n",
       "      <td>To make her feel threatened</td>\n",
       "      <td>[14]</td>\n",
       "      <td>ed7ypvh</td>\n",
       "      <td>14</td>\n",
       "      <td>make feel threatened</td>\n",
       "    </tr>\n",
       "    <tr>\n",
       "      <th>4</th>\n",
       "      <td>Dirty Southern Wankers</td>\n",
       "      <td>[3]</td>\n",
       "      <td>ed0bdzj</td>\n",
       "      <td>3</td>\n",
       "      <td>dirty southern wanker</td>\n",
       "    </tr>\n",
       "  </tbody>\n",
       "</table>\n",
       "</div>"
      ],
      "text/plain": [
       "                                                text labels       id   0  \\\n",
       "0  My favourite food is anything I didn't have to...   [27]  eebbqej  27   \n",
       "1  Now if he does off himself, everyone will thin...   [27]  ed00q6i  27   \n",
       "2                     WHY THE FUCK IS BAYLESS ISOING    [2]  eezlygj   2   \n",
       "3                        To make her feel threatened   [14]  ed7ypvh  14   \n",
       "4                             Dirty Southern Wankers    [3]  ed0bdzj   3   \n",
       "\n",
       "                                          processing  \n",
       "0                       favourite food anything cook  \n",
       "1  everyone think he laugh screwing people instea...  \n",
       "2                                fuck bayless isoing  \n",
       "3                               make feel threatened  \n",
       "4                              dirty southern wanker  "
      ]
     },
     "execution_count": 142,
     "metadata": {},
     "output_type": "execute_result"
    }
   ],
   "source": [
    "train.head()"
   ]
  },
  {
   "cell_type": "code",
   "execution_count": 145,
   "id": "c464227f",
   "metadata": {},
   "outputs": [],
   "source": [
    "train = train[['text',0,'processing']]\n",
    "train.to_csv('/Users/rames/Documents/IITB/Others/SOC 2022/reddit_processed_data.csv', encoding='utf-8', index=False)"
   ]
  },
  {
   "cell_type": "code",
   "execution_count": null,
   "id": "b48e6839",
   "metadata": {},
   "outputs": [],
   "source": [
    "# I should remove [name] in the start only and then numbers in between the comments are still there"
   ]
  }
 ],
 "metadata": {
  "kernelspec": {
   "display_name": "Python 3",
   "language": "python",
   "name": "python3"
  },
  "language_info": {
   "codemirror_mode": {
    "name": "ipython",
    "version": 3
   },
   "file_extension": ".py",
   "mimetype": "text/x-python",
   "name": "python",
   "nbconvert_exporter": "python",
   "pygments_lexer": "ipython3",
   "version": "3.8.8"
  }
 },
 "nbformat": 4,
 "nbformat_minor": 5
}
