{
 "cells": [
  {
   "cell_type": "code",
   "execution_count": 86,
   "id": "dad2064d",
   "metadata": {},
   "outputs": [],
   "source": [
    "import pandas as pd\n",
    "import torch\n",
    "import torch.nn.functional as F\n",
    "# !pip install torchtext==0.10.0\n",
    "import torchtext\n",
    "import torchtext.legacy\n",
    "import random"
   ]
  },
  {
   "cell_type": "code",
   "execution_count": 87,
   "id": "aa276fea",
   "metadata": {},
   "outputs": [],
   "source": [
    "# emotions = ['worry','neutral','happiness','sadness','love','surprise']\n",
    "TEXT = torchtext.legacy.data.Field(tokenize='spacy',tokenizer_language='en_core_web_sm',use_vocab=True, batch_first=True, include_lengths=True)\n",
    "LABEL = torchtext.legacy.data.LabelField(dtype=torch.long)"
   ]
  },
  {
   "cell_type": "code",
   "execution_count": 88,
   "id": "e659a7ad",
   "metadata": {},
   "outputs": [],
   "source": [
    "fields = [('sentiment', LABEL),('lemma_str', TEXT)]\n",
    "dataset = torchtext.legacy.data.TabularDataset(path='filename2.csv', format='csv',skip_header=True, fields=fields)"
   ]
  },
  {
   "cell_type": "code",
   "execution_count": 89,
   "id": "7d040bbd",
   "metadata": {},
   "outputs": [],
   "source": [
    "RANDOM_SEED=42\n",
    "train_data, test_data = dataset.split(split_ratio=[0.8, 0.2],random_state=random.seed(RANDOM_SEED))\n",
    "train_data, valid_data = train_data.split(split_ratio=[0.85, 0.15],random_state=random.seed(RANDOM_SEED))"
   ]
  },
  {
   "cell_type": "code",
   "execution_count": 90,
   "id": "3862daf2",
   "metadata": {},
   "outputs": [],
   "source": [
    "# from sklearn.preprocessing import LabelEncoder\n",
    "# le = LabelEncoder()\n",
    "# train_y = le.fit_transform(train_y.values)\n",
    "# test_y = le.transform(test_y.values)"
   ]
  },
  {
   "cell_type": "code",
   "execution_count": 92,
   "id": "0c35be03",
   "metadata": {},
   "outputs": [],
   "source": [
    "VOCABULARY_SIZE=5000\n",
    "vectors = torchtext.vocab.Vectors(name='glove.6B.50d.txt')\n",
    "TEXT.build_vocab(train_data,vectors=vectors,min_freq=4,max_size=VOCABULARY_SIZE)\n",
    "LABEL.build_vocab(train_data)"
   ]
  },
  {
   "cell_type": "code",
   "execution_count": 109,
   "id": "41e0a53b",
   "metadata": {},
   "outputs": [
    {
     "name": "stdout",
     "output_type": "stream",
     "text": [
      "[('worry', 0), ('neutral', 1), ('sadness', 2), ('happiness', 3), ('love', 4), ('surprise', 5)]\n"
     ]
    }
   ],
   "source": [
    "print(list(LABEL.vocab.stoi.items()))"
   ]
  },
  {
   "cell_type": "code",
   "execution_count": 94,
   "id": "8683467b",
   "metadata": {},
   "outputs": [
    {
     "name": "stdout",
     "output_type": "stream",
     "text": [
      "Loaded 400000 words\n"
     ]
    }
   ],
   "source": [
    "import torch\n",
    "import torchtext.vocab as vocab\n",
    "glove = vocab.GloVe(name='6B', dim=50)\n",
    "\n",
    "print('Loaded {} words'.format(len(glove.itos)))\n",
    "\n",
    "def get_word(word):\n",
    "    return glove.vectors[glove.stoi[word]]"
   ]
  },
  {
   "cell_type": "code",
   "execution_count": 95,
   "id": "503f688e",
   "metadata": {},
   "outputs": [
    {
     "name": "stdout",
     "output_type": "stream",
     "text": [
      "(5000, 50)\n"
     ]
    }
   ],
   "source": [
    "# Didn't use this method but tried this\n",
    "import numpy as np\n",
    "matrix_len = VOCABULARY_SIZE\n",
    "weights_matrix = np.zeros((matrix_len, 50))\n",
    "words_found = 0\n",
    "\n",
    "for i, word in enumerate(TEXT.vocab.stoi.items()):\n",
    "    try: \n",
    "        weights_matrix[i] = get_word(word[0])\n",
    "        words_found += 1\n",
    "    except KeyError:\n",
    "        weights_matrix[i] = np.random.normal(scale=0.6, size=(50, ))\n",
    "\n",
    "print(weights_matrix.shape)"
   ]
  },
  {
   "cell_type": "code",
   "execution_count": 96,
   "id": "c15712b3",
   "metadata": {},
   "outputs": [],
   "source": [
    "def embedding_layer(weights_matrix, non_trainable=False):\n",
    "    num_embeddings = weights_matrix.shape[0]\n",
    "    embedding_dim = weights_matrix.shape[1]\n",
    "    emb_layer = torch.nn.Embedding.from_pretrained(torch.Tensor(weights_matrix))\n",
    "    if non_trainable:\n",
    "        emb_layer.weight.requires_grad = False\n",
    "    return emb_layer"
   ]
  },
  {
   "cell_type": "code",
   "execution_count": 110,
   "id": "2c4d9531",
   "metadata": {},
   "outputs": [],
   "source": [
    "LEARNING_RATE = 0.005\n",
    "BATCH_SIZE = 16\n",
    "NUM_EPOCHS = 15\n",
    "DEVICE = torch.device('cuda:1' if torch.cuda.is_available() else 'cpu')\n",
    "EMBEDDING_DIM = 50\n",
    "HIDDEN_DIM = 128\n",
    "NUM_CLASSES = 6"
   ]
  },
  {
   "cell_type": "code",
   "execution_count": 111,
   "id": "01ccf353",
   "metadata": {},
   "outputs": [],
   "source": [
    "train_loader, valid_loader, test_loader = torchtext.legacy.data.BucketIterator.splits(\n",
    "    (train_data, valid_data, test_data), batch_size=BATCH_SIZE, sort_within_batch=False,\n",
    "        sort_key=lambda x: len(x.lemma_str), device=DEVICE\n",
    ")"
   ]
  },
  {
   "cell_type": "code",
   "execution_count": 119,
   "id": "8fe9d372",
   "metadata": {},
   "outputs": [],
   "source": [
    "import torch.nn as nn\n",
    "class LSTM(torch.nn.Module):\n",
    "    \n",
    "    def __init__(self, input_dim, embedding_dim, hidden_dim, output_dim,n_layers):\n",
    "        super().__init__()\n",
    "        self.n_layers=n_layers\n",
    "        self.embedding = torch.nn.Embedding(input_dim,embedding_dim)\n",
    "        self.lstm = torch.nn.LSTM(embedding_dim, hidden_dim,n_layers,bidirectional=True,batch_first=True)        \n",
    "        self.fc = torch.nn.Linear(hidden_dim*2, output_dim)\n",
    "        \n",
    "    def forward(self, text, batch_len):\n",
    "        self.embedding.weight.data.copy_(TEXT.vocab.vectors)\n",
    "        embedded = self.embedding(text)\n",
    "        pack_out = nn.utils.rnn.pack_padded_sequence(\n",
    "            embedded, batch_len,batch_first=True,enforce_sorted=False)\n",
    "        output, (hidden, cell) = self.lstm(pack_out)\n",
    "        hidden = torch.cat((hidden[-2,:,:], hidden[-1,:,:]),dim=1)\n",
    "        output = self.fc(hidden)\n",
    "        return output"
   ]
  },
  {
   "cell_type": "code",
   "execution_count": 120,
   "id": "31e92bef",
   "metadata": {},
   "outputs": [],
   "source": [
    "torch.manual_seed(RANDOM_SEED)\n",
    "model = LSTM(input_dim=len(TEXT.vocab),embedding_dim=EMBEDDING_DIM,hidden_dim=HIDDEN_DIM,output_dim=NUM_CLASSES,n_layers=2)\n",
    "\n",
    "model = model.to(DEVICE)\n",
    "optimizer = torch.optim.Adam(model.parameters(), lr=0.005)"
   ]
  },
  {
   "cell_type": "code",
   "execution_count": 121,
   "id": "4b2a6bdf",
   "metadata": {},
   "outputs": [
    {
     "name": "stdout",
     "output_type": "stream",
     "text": [
      "Epoch 0 is done\n",
      "Epoch 1 is done\n",
      "Epoch 2 is done\n",
      "Epoch 3 is done\n",
      "Epoch 4 is done\n",
      "Epoch 5 is done\n",
      "Epoch 6 is done\n",
      "Epoch 7 is done\n",
      "Epoch 8 is done\n",
      "Epoch 9 is done\n",
      "Epoch 10 is done\n",
      "Epoch 11 is done\n",
      "Epoch 12 is done\n",
      "Epoch 13 is done\n",
      "Epoch 14 is done\n"
     ]
    }
   ],
   "source": [
    "#Training\n",
    "for epoch in range(NUM_EPOCHS):\n",
    "    for batch_idx, batch in enumerate(train_loader):\n",
    "        data, length = batch.lemma_str\n",
    "        targets = batch.sentiment\n",
    "        \n",
    "        scores = model(data,length)\n",
    "        loss = F.cross_entropy(scores, targets)\n",
    "\n",
    "        optimizer.zero_grad()\n",
    "        loss.backward()\n",
    "\n",
    "        optimizer.step()\n",
    "\n",
    "    print(f\"Epoch {epoch} is done\")"
   ]
  },
  {
   "cell_type": "code",
   "execution_count": 124,
   "id": "70452024",
   "metadata": {},
   "outputs": [],
   "source": [
    "torch.save(model, \"/Users/rames/Documents/IITB/Others/SOC 2022/final_model_with_5_emotions.pt\")"
   ]
  },
  {
   "cell_type": "code",
   "execution_count": 117,
   "id": "94cfd88e",
   "metadata": {},
   "outputs": [],
   "source": [
    "# average_loss=0\n",
    "# for batch_idx, batch in enumerate(valid_loader):\n",
    "#     data_test = batch.lemma_str.to(device=DEVICE)\n",
    "#     actual = batch.sentiment.to(device=DEVICE)\n",
    "\n",
    "#     pred = model(data_test)\n",
    "#     average_loss += F.cross_entropy(pred, actual)\n",
    "#     print(pred,actual)\n",
    "#     break"
   ]
  },
  {
   "cell_type": "code",
   "execution_count": 123,
   "id": "ea8c3739",
   "metadata": {},
   "outputs": [
    {
     "name": "stderr",
     "output_type": "stream",
     "text": [
      "<ipython-input-123-d4c2723ca207>:13: UserWarning: Implicit dimension choice for softmax has been deprecated. Change the call to include dim=X as an argument.\n",
      "  val_preds =F.softmax(y_pred)\n"
     ]
    },
    {
     "name": "stdout",
     "output_type": "stream",
     "text": [
      "[[677 436 254 136  76  80]\n",
      " [383 758 115 223 104  69]\n",
      " [397 210 230  77  43  31]\n",
      " [202 276  57 372 125  56]\n",
      " [102 106  37 204 246  36]\n",
      " [105 158  32  84  40  32]]\n",
      "[40.80771549 45.88377724 23.27935223 34.19117647 33.65253078  7.09534368]\n"
     ]
    }
   ],
   "source": [
    "import numpy as np\n",
    "import sklearn.metrics\n",
    "val_loss = 0.\n",
    "\n",
    "predlist=torch.zeros(0,dtype=torch.long, device='cpu')\n",
    "lbllist=torch.zeros(0,dtype=torch.long, device='cpu')\n",
    "\n",
    "for batch_idx, batch in enumerate(test_loader):\n",
    "    data, length = batch.lemma_str\n",
    "    y_pred = model(data,length)\n",
    "    val_loss += F.cross_entropy(y_pred, batch.sentiment).item()\n",
    "\n",
    "    val_preds =F.softmax(y_pred)\n",
    "    val_preds = val_preds.argmax(axis=1)\n",
    "#     print(val_preds)\n",
    "#     break\n",
    "    predlist=torch.cat([predlist,val_preds.view(-1).cpu()])\n",
    "    lbllist=torch.cat([lbllist,batch.sentiment.view(-1).cpu()])\n",
    "        \n",
    "#     print(val_preds,batch.sentiment.numpy())\n",
    "\n",
    "conf_mat=sklearn.metrics.confusion_matrix(lbllist.numpy(), predlist.numpy())\n",
    "print(conf_mat)\n",
    "\n",
    "# Per-class accuracy\n",
    "class_accuracy=100*conf_mat.diagonal()/conf_mat.sum(1)\n",
    "print(class_accuracy)"
   ]
  },
  {
   "cell_type": "code",
   "execution_count": 109,
   "id": "fcdc59e8",
   "metadata": {},
   "outputs": [],
   "source": []
  },
  {
   "cell_type": "code",
   "execution_count": null,
   "id": "4b0157bb",
   "metadata": {},
   "outputs": [],
   "source": []
  }
 ],
 "metadata": {
  "kernelspec": {
   "display_name": "Python 3",
   "language": "python",
   "name": "python3"
  },
  "language_info": {
   "codemirror_mode": {
    "name": "ipython",
    "version": 3
   },
   "file_extension": ".py",
   "mimetype": "text/x-python",
   "name": "python",
   "nbconvert_exporter": "python",
   "pygments_lexer": "ipython3",
   "version": "3.8.8"
  }
 },
 "nbformat": 4,
 "nbformat_minor": 5
}
