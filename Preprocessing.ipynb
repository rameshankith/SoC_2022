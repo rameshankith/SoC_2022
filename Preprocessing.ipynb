{
 "cells": [
  {
   "cell_type": "code",
   "execution_count": null,
   "id": "23128cd6",
   "metadata": {},
   "outputs": [],
   "source": [
    "import pandas as pd\n",
    "import numpy as np\n",
    "import contractions\n",
    "import fasttext\n",
    "import string\n",
    "import nltk\n",
    "from nltk.tokenize import word_tokenize\n",
    "from nltk.corpus import stopwords, wordnet\n",
    "from nltk.stem import WordNetLemmatizer"
   ]
  },
  {
   "cell_type": "code",
   "execution_count": null,
   "id": "fddcb45d",
   "metadata": {},
   "outputs": [],
   "source": [
    "df = pd.read_csv('tweet_emotions.csv')\n",
    "df=df[['sentiment','content']]"
   ]
  },
  {
   "cell_type": "code",
   "execution_count": null,
   "id": "3375423b",
   "metadata": {},
   "outputs": [],
   "source": [
    "df.describe()"
   ]
  },
  {
   "cell_type": "code",
   "execution_count": null,
   "id": "c713a74d",
   "metadata": {},
   "outputs": [],
   "source": [
    "df.isnull().sum()"
   ]
  },
  {
   "cell_type": "code",
   "execution_count": null,
   "id": "a04c3f01",
   "metadata": {},
   "outputs": [],
   "source": [
    "#Removing contractions, tokenizing and lowering the letters\n",
    "df['no_contract']=df['content'].apply(lambda x: [contractions.fix(word) for word in x.split()])\n",
    "df['no_contract']=[' '.join(map(str, l)) for l in df['no_contract']]\n",
    "df['tokenized'] = df['no_contract'].apply(word_tokenize)\n",
    "df['lower'] = df['tokenized'].apply(lambda x: [word.lower() for word in x])"
   ]
  },
  {
   "cell_type": "code",
   "execution_count": null,
   "id": "6db6fa60",
   "metadata": {},
   "outputs": [],
   "source": [
    "#Removing Punctuations\n",
    "punc = string.punctuation\n",
    "df['no_punc'] = df['lower'].apply(lambda x: [word for word in x if word not in punc])"
   ]
  },
  {
   "cell_type": "code",
   "execution_count": null,
   "id": "2e53ef10",
   "metadata": {},
   "outputs": [],
   "source": [
    "#Removing non english words\n",
    "pretrained_model = \"lid.176.bin\" \n",
    "model = fasttext.load_model(pretrained_model)\n",
    "langs = []\n",
    "for sent in df['no_contract']:\n",
    "    lang = model.predict(sent)[0]\n",
    "    langs.append(str(lang)[11:13])\n",
    "df['language']=langs\n",
    "df.drop(df.loc[df['language']!='en'].index, inplace=True)"
   ]
  },
  {
   "cell_type": "code",
   "execution_count": null,
   "id": "694b448f",
   "metadata": {},
   "outputs": [],
   "source": [
    "#Removing stopwords and adding tags\n",
    "stop_words = set(stopwords.words('english'))\n",
    "df['stopwords_removed'] = df['no_punc'].apply(lambda x: [word for word in x if word not in stop_words])"
   ]
  },
  {
   "cell_type": "code",
   "execution_count": null,
   "id": "2e03d92b",
   "metadata": {},
   "outputs": [],
   "source": [
    "#Adding tags for lemmatization\n",
    "df['pos_tags'] = df['stopwords_removed'].apply(nltk.tag.pos_tag)\n",
    "def get_wordnet_pos(tag):\n",
    "    if tag.startswith('J'):\n",
    "        return wordnet.ADJ\n",
    "    elif tag.startswith('V'):\n",
    "        return wordnet.VERB\n",
    "    elif tag.startswith('N'):\n",
    "        return wordnet.NOUN\n",
    "    elif tag.startswith('R'):\n",
    "        return wordnet.ADV\n",
    "    else:\n",
    "        return wordnet.NOUN\n",
    "df['wordnet_pos'] = df['pos_tags'].apply(lambda x: [(word, get_wordnet_pos(pos_tag)) for (word, pos_tag) in x])\n"
   ]
  },
  {
   "cell_type": "code",
   "execution_count": null,
   "id": "0a5828b8",
   "metadata": {},
   "outputs": [],
   "source": [
    "#Lemmatizing and converting into string\n",
    "wnl = WordNetLemmatizer()\n",
    "df['lemmatized'] = df['wordnet_pos'].apply(lambda x: [wnl.lemmatize(word, tag) for word, tag in x])\n",
    "df['lemma_str'] = [' '.join(map(str,l)) for l in df['lemmatized']]"
   ]
  },
  {
   "cell_type": "code",
   "execution_count": null,
   "id": "2d32bb21",
   "metadata": {},
   "outputs": [],
   "source": [
    "#Saving the file\n",
    "df = df[['sentiment','lemma_str']]\n",
    "df.to_csv('/content/drive/My Drive/filename.csv', encoding='utf-8', index=False)"
   ]
  }
 ],
 "metadata": {
  "kernelspec": {
   "display_name": "Python 3",
   "language": "python",
   "name": "python3"
  },
  "language_info": {
   "codemirror_mode": {
    "name": "ipython",
    "version": 3
   },
   "file_extension": ".py",
   "mimetype": "text/x-python",
   "name": "python",
   "nbconvert_exporter": "python",
   "pygments_lexer": "ipython3",
   "version": "3.8.8"
  }
 },
 "nbformat": 4,
 "nbformat_minor": 5
}
